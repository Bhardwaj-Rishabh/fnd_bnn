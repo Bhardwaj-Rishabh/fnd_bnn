{
 "cells": [
  {
   "cell_type": "code",
   "execution_count": 4,
   "metadata": {},
   "outputs": [],
   "source": [
    "from __future__ import absolute_import\n",
    "from __future__ import division\n",
    "from __future__ import print_function\n",
    "\n",
    "import edward as ed\n",
    "from edward.models import Normal\n",
    "import numpy as np\n",
    "\n",
    "import numpy as np\n",
    "import tensorflow as tf\n",
    "from getEmbeddings import getEmbeddings\n",
    "import matplotlib.pyplot as plt\n",
    "import scikitplot.plotters as skplt\n",
    "import os.path"
   ]
  },
  {
   "cell_type": "code",
   "execution_count": 5,
   "metadata": {},
   "outputs": [],
   "source": [
    "IN_DIM = 300\n",
    "CLASS_NUM = 2\n",
    "LEARN_RATE = 0.0001\n",
    "TRAIN_STEP = 20000\n",
    "tensorflow_tmp = \"tmp_tensorflow\"\n"
   ]
  },
  {
   "cell_type": "code",
   "execution_count": 15,
   "metadata": {},
   "outputs": [],
   "source": [
    "N = 16608\n",
    "D = IN_DIM"
   ]
  },
  {
   "cell_type": "code",
   "execution_count": 34,
   "metadata": {},
   "outputs": [],
   "source": [
    "def data():\n",
    "    # Get the training and testing data from getEmbeddings\n",
    "    # Read the Doc2Vec data\n",
    "    train_data = np.load('../Data/xtr.npy')\n",
    "    eval_data = np.load('../Data/xte.npy')\n",
    "    train_labels = np.load('../Data/ytr.npy')\n",
    "    eval_labels = np.load('../Data/yte.npy')\n",
    "    train_labels = train_labels.reshape((-1, 1)).astype(np.int32)\n",
    "\n",
    "    return train_data, train_labels.flatten() "
   ]
  },
  {
   "cell_type": "code",
   "execution_count": 9,
   "metadata": {},
   "outputs": [],
   "source": [
    "def neural_network(X):\n",
    "    h = tf.nn.relu(tf.matmul(X, W_0) + b_0)\n",
    "    h = tf.nn.relu(tf.matmul(h, W_1) + b_1)\n",
    "    h = tf.nn.relu(tf.matmul(h, W_2) + b_2)\n",
    "    h = tf.nn.relu(tf.matmul(h, W_3) + b_3)\n",
    "    return tf.reshape(h, [-1])\n",
    "\n",
    "ed.set_seed(42)"
   ]
  },
  {
   "cell_type": "code",
   "execution_count": 17,
   "metadata": {},
   "outputs": [],
   "source": [
    "with tf.name_scope(\"model\"):\n",
    "    W_0 = Normal(loc=tf.zeros([D, 300]), scale=tf.ones([D, 300]),\n",
    "                 name=\"W_0\")\n",
    "    W_1 = Normal(loc=tf.zeros([300, 300]), scale=tf.ones([300, 300]), name=\"W_1\")\n",
    "    W_2 = Normal(loc=tf.zeros([300, 300]), scale=tf.ones([300, 300]), name=\"W_2\")\n",
    "    W_3 = Normal(loc=tf.zeros([300, 1]), scale=tf.ones([300, 1]), name=\"W_3\")\n",
    "    b_0 = Normal(loc=tf.zeros(300), scale=tf.ones(300), name=\"b_0\")\n",
    "    b_1 = Normal(loc=tf.zeros(300), scale=tf.ones(300), name=\"b_1\")\n",
    "    b_2 = Normal(loc=tf.zeros(1), scale=tf.ones(300), name=\"b_2\")\n",
    "    b_3 = Normal(loc=tf.zeros(1), scale=tf.ones(1), name=\"b_2\")\n",
    "    X = tf.placeholder(tf.float32, [N, D], name=\"X\")\n",
    "    y = Normal(loc=neural_network(X), scale=0.1 * tf.ones(N), name=\"y\")"
   ]
  },
  {
   "cell_type": "code",
   "execution_count": 35,
   "metadata": {},
   "outputs": [],
   "source": [
    "X_train, y_train = data()"
   ]
  },
  {
   "cell_type": "code",
   "execution_count": 36,
   "metadata": {},
   "outputs": [
    {
     "name": "stdout",
     "output_type": "stream",
     "text": [
      "(16608, 300)\n",
      "(16608,)\n"
     ]
    }
   ],
   "source": [
    "print(X_train.shape)\n",
    "print(y_train.shape)"
   ]
  },
  {
   "cell_type": "code",
   "execution_count": 38,
   "metadata": {},
   "outputs": [],
   "source": [
    "# INFERENCE\n",
    "with tf.variable_scope(\"posterior\"):\n",
    "    with tf.variable_scope(\"qW_0\"):\n",
    "      loc = tf.get_variable(\"loc\", [D, 300])\n",
    "      scale = tf.nn.softplus(tf.get_variable(\"scale\", [D, 300]))\n",
    "      qW_0 = Normal(loc=loc, scale=scale)\n",
    "    with tf.variable_scope(\"qW_1\"):\n",
    "      loc = tf.get_variable(\"loc\", [300, 300])\n",
    "      scale = tf.nn.softplus(tf.get_variable(\"scale\", [300, 300]))\n",
    "      qW_1 = Normal(loc=loc, scale=scale)\n",
    "    with tf.variable_scope(\"qW_2\"):\n",
    "      loc = tf.get_variable(\"loc\", [300, 300])\n",
    "      scale = tf.nn.softplus(tf.get_variable(\"scale\", [300, 300]))\n",
    "      qW_2 = Normal(loc=loc, scale=scale)\n",
    "    with tf.variable_scope(\"qW_3\"):\n",
    "      loc = tf.get_variable(\"loc\", [300, 1])\n",
    "      scale = tf.nn.softplus(tf.get_variable(\"scale\", [300, 1]))\n",
    "      qW_3 = Normal(loc=loc, scale=scale)\n",
    "    with tf.variable_scope(\"qb_0\"):\n",
    "      loc = tf.get_variable(\"loc\", [300])\n",
    "      scale = tf.nn.softplus(tf.get_variable(\"scale\", [300]))\n",
    "      qb_0 = Normal(loc=loc, scale=scale)\n",
    "    with tf.variable_scope(\"qb_1\"):\n",
    "      loc = tf.get_variable(\"loc\", [300])\n",
    "      scale = tf.nn.softplus(tf.get_variable(\"scale\", [300]))\n",
    "      qb_1 = Normal(loc=loc, scale=scale)\n",
    "    with tf.variable_scope(\"qb_2\"):\n",
    "      loc = tf.get_variable(\"loc\", [300])\n",
    "      scale = tf.nn.softplus(tf.get_variable(\"scale\", [300]))\n",
    "      qb_2 = Normal(loc=loc, scale=scale)\n",
    "    with tf.variable_scope(\"qb_3\"):\n",
    "      loc = tf.get_variable(\"loc\", [1])\n",
    "      scale = tf.nn.softplus(tf.get_variable(\"scale\", [1]))\n",
    "      qb_3 = Normal(loc=loc, scale=scale)"
   ]
  },
  {
   "cell_type": "code",
   "execution_count": 1,
   "metadata": {},
   "outputs": [],
   "source": [
    "inference = ed.KLqp({W_0: qW_0, b_0: qb_0,\n",
    "                   W_1: qW_1, b_1: qb_1,\n",
    "                   W_2: qW_2, b_2: qb_2,\n",
    "                   W_3: qW_3, b_3: qb_3}, data={X: X_train, y: y_train})\n",
    "inference.run(logdir='log')"
   ]
  },
  {
   "cell_type": "code",
   "execution_count": null,
   "metadata": {},
   "outputs": [],
   "source": []
  }
 ],
 "metadata": {
  "kernelspec": {
   "display_name": "Python 3",
   "language": "python",
   "name": "python3"
  },
  "language_info": {
   "codemirror_mode": {
    "name": "ipython",
    "version": 3
   },
   "file_extension": ".py",
   "mimetype": "text/x-python",
   "name": "python",
   "nbconvert_exporter": "python",
   "pygments_lexer": "ipython3",
   "version": "3.6.8"
  }
 },
 "nbformat": 4,
 "nbformat_minor": 2
}
