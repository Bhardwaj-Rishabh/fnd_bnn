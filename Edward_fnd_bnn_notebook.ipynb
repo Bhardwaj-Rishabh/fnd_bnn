{
 "cells": [
  {
   "cell_type": "code",
   "execution_count": 1,
   "metadata": {},
   "outputs": [],
   "source": [
    "from __future__ import absolute_import\n",
    "from __future__ import division\n",
    "from __future__ import print_function\n",
    "\n",
    "import edward as ed\n",
    "from edward.models import Normal\n",
    "from edward.models import Beta\n",
    "from edward.models import Bernoulli, MultivariateNormalTriL, Categorical\n",
    "\n",
    "import numpy as np\n",
    "import tensorflow as tf\n",
    "from getEmbeddings import getEmbeddings\n",
    "import matplotlib.pyplot as plt\n",
    "import scikitplot.plotters as skplt\n",
    "import os.path"
   ]
  },
  {
   "cell_type": "code",
   "execution_count": 12,
   "metadata": {},
   "outputs": [],
   "source": [
    "IN_DIM = 300\n",
    "CLASS_NUM = 2\n",
    "LEARN_RATE = 0.0001\n",
    "TRAIN_STEP = 20000\n",
    "tensorflow_tmp = \"tmp_tensorflow\""
   ]
  },
  {
   "cell_type": "code",
   "execution_count": 13,
   "metadata": {},
   "outputs": [],
   "source": [
    "N = 16608\n",
    "D = IN_DIM"
   ]
  },
  {
   "cell_type": "code",
   "execution_count": 14,
   "metadata": {},
   "outputs": [],
   "source": [
    "tf.reset_default_graph()"
   ]
  },
  {
   "cell_type": "code",
   "execution_count": 15,
   "metadata": {},
   "outputs": [],
   "source": [
    "def data():\n",
    "    # Get the training and testing data from getEmbeddings\n",
    "    # Read the Doc2Vec data\n",
    "    train_data = np.load('../Data/xtr.npy')\n",
    "    eval_data = np.load('../Data/xte.npy')\n",
    "    train_labels = np.load('../Data/ytr.npy')\n",
    "    eval_labels = np.load('../Data/yte.npy')\n",
    "    train_labels = train_labels.reshape((-1, 1)).astype(np.int32)\n",
    "\n",
    "    return train_data, train_labels.flatten(), eval_data, eval_labels.flatten()"
   ]
  },
  {
   "cell_type": "code",
   "execution_count": 16,
   "metadata": {},
   "outputs": [],
   "source": [
    "'''def neural_network(X):\n",
    "    h = tf.nn.relu(tf.matmul(X, W_0) + b_0)\n",
    "    h = tf.nn.relu(tf.matmul(h, W_1) + b_1)\n",
    "    h = tf.nn.relu(tf.matmul(h, W_2) + b_2)\n",
    "    h = tf.nn.relu(tf.matmul(h, W_3) + b_3)\n",
    "    return tf.reshape(h, [-1])\n",
    "\n",
    "ed.set_seed(42)\n",
    "'''\n",
    "def neural_network(X):\n",
    "    h = tf.tanh(tf.matmul(X, W_0) + b_0)\n",
    "    h = tf.tanh(tf.matmul(h, W_1) + b_1)\n",
    "    h = tf.tanh(tf.matmul(h, W_2) + b_2)\n",
    "    h = tf.tanh(tf.matmul(h, W_3) + b_3)\n",
    "    return h#tf.reshape(h, [-1])\n",
    "\n",
    "ed.set_seed(42)"
   ]
  },
  {
   "cell_type": "code",
   "execution_count": 17,
   "metadata": {},
   "outputs": [
    {
     "data": {
      "text/plain": [
       "'\\nwith tf.name_scope(\"model\"):\\n    W_0 = Normal(loc=tf.zeros([D, 300]), scale=tf.ones([D, 300]),\\n                 name=\"W_0\")\\n    W_1 = Normal(loc=tf.zeros([300, 300]), scale=tf.ones([300, 300]), name=\"W_1\")\\n    W_2 = Normal(loc=tf.zeros([300, 300]), scale=tf.ones([300, 300]), name=\"W_2\")\\n    W_3 = Normal(loc=tf.zeros([300, 2]), scale=tf.ones([300, 2]), name=\"W_3\")\\n    b_0 = Normal(loc=tf.zeros(300), scale=tf.ones(300), name=\"b_0\")\\n    b_1 = Normal(loc=tf.zeros(300), scale=tf.ones(300), name=\"b_1\")\\n    b_2 = Normal(loc=tf.zeros(300), scale=tf.ones(300), name=\"b_2\")\\n    b_3 = Normal(loc=tf.ones(2), scale=tf.ones(2), name=\"b_3\")  \\n    X = tf.placeholder(tf.float32, [None, D], name=\"X\")\\n    y = Categorical(neural_network(X), name=\"out\")\\n'"
      ]
     },
     "execution_count": 17,
     "metadata": {},
     "output_type": "execute_result"
    }
   ],
   "source": [
    "'''\n",
    "with tf.name_scope(\"model\"):\n",
    "    W_0 = Normal(loc=tf.zeros([D, 300]), scale=tf.ones([D, 300]),\n",
    "                 name=\"W_0\")\n",
    "    W_1 = Normal(loc=tf.zeros([300, 300]), scale=tf.ones([300, 300]), name=\"W_1\")\n",
    "    W_2 = Normal(loc=tf.zeros([300, 300]), scale=tf.ones([300, 300]), name=\"W_2\")\n",
    "    W_3 = Normal(loc=tf.zeros([300, 2]), scale=tf.ones([300, 2]), name=\"W_3\")\n",
    "    b_0 = Normal(loc=tf.zeros(300), scale=tf.ones(300), name=\"b_0\")\n",
    "    b_1 = Normal(loc=tf.zeros(300), scale=tf.ones(300), name=\"b_1\")\n",
    "    b_2 = Normal(loc=tf.zeros(300), scale=tf.ones(300), name=\"b_2\")\n",
    "    b_3 = Normal(loc=tf.ones(2), scale=tf.ones(2), name=\"b_3\")  \n",
    "    X = tf.placeholder(tf.float32, [None, D], name=\"X\")\n",
    "    y = Categorical(neural_network(X), name=\"out\")\n",
    "'''"
   ]
  },
  {
   "cell_type": "code",
   "execution_count": 18,
   "metadata": {},
   "outputs": [],
   "source": [
    "from keras.utils.np_utils import to_categorical\n",
    "from edward.models import Normal, OneHotCategorical\n",
    "\n",
    "X_train, y_train, X_test, y_test = data()\n",
    "#y_train = to_categorical(y_train, num_classes=2)"
   ]
  },
  {
   "cell_type": "code",
   "execution_count": 19,
   "metadata": {},
   "outputs": [
    {
     "data": {
      "text/plain": [
       "array([-0.10909925, -0.1533924 ,  0.25079963, -0.44075423,  0.76589823,\n",
       "        0.06528959,  0.33648187, -0.39045393,  0.19403008, -0.15183719,\n",
       "       -0.31247854,  0.01048287, -0.00943268,  0.39518169, -0.42421004,\n",
       "       -0.02285684,  0.25530708,  0.21203719,  0.25060442, -0.11962883,\n",
       "        0.18786967, -0.12573212,  0.63139296,  0.51808155,  0.31717432,\n",
       "       -0.26647913,  0.64298368,  0.05415455, -0.34272864,  0.20884421,\n",
       "       -0.0406697 , -0.18859312,  0.03097081, -0.02661392, -0.26044583,\n",
       "       -0.11376627, -0.55710369,  0.41282558,  0.16852812, -0.31658146,\n",
       "        0.40650964,  0.19828998,  0.06955437,  0.48007151,  0.23204562,\n",
       "       -0.07754508,  0.23100746, -0.27005479,  0.11164568, -0.06827326,\n",
       "       -0.04374921, -0.1149475 , -0.18935089, -0.27474064, -0.18915153,\n",
       "       -0.1176029 , -0.39521331,  0.0922235 , -0.11931918,  0.20645793,\n",
       "        0.37922385,  0.48577979, -0.20960642,  0.48669472,  0.41080502,\n",
       "        0.04662562,  0.29828101,  0.03053242, -0.61243594,  0.13947478,\n",
       "       -0.07132582,  0.28255939, -0.088786  , -0.2269406 ,  0.19078046,\n",
       "       -0.1706225 ,  0.22020839,  0.06855906, -0.35780302, -0.30574089,\n",
       "        0.1532153 , -0.60707134,  0.38568556, -0.0069959 ,  0.59312904,\n",
       "       -0.10985881, -0.21177231,  0.09109984, -0.07542346, -0.1749986 ,\n",
       "        0.21726838, -0.32761207, -0.10915338, -0.2466068 , -0.61981624,\n",
       "       -0.39960676,  0.03851467,  0.14415021,  0.12981178, -0.27190918,\n",
       "        0.04511508, -0.05955087, -0.325214  ,  0.19042473, -0.07094664,\n",
       "        0.4622032 , -0.19692554,  0.18922156, -0.09005482, -0.3433544 ,\n",
       "       -0.07430788,  0.30975997,  0.01432153,  0.13598795,  0.00572384,\n",
       "       -0.02781069, -0.10871836, -0.01626311,  0.00193509, -0.10447945,\n",
       "       -0.02269265, -0.09052646, -0.06088695,  0.22971061, -0.41464359,\n",
       "       -0.65009612,  0.08150304, -0.32739675, -0.14062156,  0.08372927,\n",
       "       -0.05614049, -0.0674677 , -0.06543349, -0.06940952,  0.18055485,\n",
       "        0.64100093, -0.2428299 ,  0.16374919, -0.11495372,  0.05788426,\n",
       "       -0.22685796,  0.90186971,  0.11439793, -0.36244085,  0.15765478,\n",
       "        0.29377627,  0.19634673,  0.52263242, -0.09416053, -0.10455439,\n",
       "        0.1153118 ,  0.13859701, -0.23296599, -0.05146808,  0.12275107,\n",
       "       -0.10399769,  0.43029609,  0.11290804, -0.02888229, -0.49002391,\n",
       "        0.03691544, -0.00207832, -0.3883692 , -0.16098435, -0.03976489,\n",
       "       -0.48634112, -0.02247565,  0.36081174,  0.26944664,  0.14848718,\n",
       "       -0.07214511,  0.42884487,  0.0298212 , -0.37717077,  0.1810146 ,\n",
       "        0.02623194,  0.31965089, -0.10172917,  0.00826972, -0.34318888,\n",
       "       -0.1352908 ,  0.42339659,  0.0165804 , -0.48796973,  0.182704  ,\n",
       "        0.4084754 ,  0.17073217,  0.02768971,  0.25794959,  0.12337377,\n",
       "       -0.10960007,  0.51248747, -0.08214882, -0.16445129,  0.03927422,\n",
       "        0.05426275, -0.2583192 , -0.29628628, -0.42936936, -0.86841857,\n",
       "        0.35592324, -0.00120316, -0.43603045,  0.43445837,  0.07979587,\n",
       "        0.14433008,  0.14971222,  0.15421674,  0.1433046 ,  0.06086168,\n",
       "        0.06834736, -0.17094979, -0.07478263,  0.03076379, -0.44525719,\n",
       "        0.04939539,  0.06676181, -0.00875058, -0.33776927,  0.21496269,\n",
       "       -0.00455139,  0.25580624,  0.31875876,  0.13987507, -0.16527133,\n",
       "       -0.08117986,  0.23810738,  0.12106319,  0.59667993, -0.115106  ,\n",
       "        0.01533281,  0.07915343, -0.10679671, -0.24811241, -0.1641759 ,\n",
       "        0.22446027,  0.15217613,  0.35399529, -0.10050061, -0.10204305,\n",
       "       -0.12376506, -0.41019496, -0.42164093,  0.35039026, -0.48290494,\n",
       "        0.100738  ,  0.11221367, -0.01822376,  0.50934714, -0.14748093,\n",
       "       -0.15721844, -0.31167641, -0.15135229,  0.40980497, -0.53621548,\n",
       "       -0.59350783,  0.17349292, -0.30564842,  0.08845449,  0.0871766 ,\n",
       "        0.03409303, -0.55971467, -0.0800835 ,  0.23397928,  0.03008657,\n",
       "       -0.12074874, -0.17353034, -0.15608583, -0.01438019, -0.11768523,\n",
       "        0.3894788 , -0.15246713, -0.09829233, -0.40978011,  0.26826385,\n",
       "       -0.16716158,  0.16194741,  0.10664939,  0.25655571,  0.28566381,\n",
       "        0.13278475, -0.32529321,  0.06981014,  0.00629812, -0.07807954,\n",
       "       -0.00961507, -0.11547958,  0.15052097, -0.1995391 ,  0.00999608,\n",
       "        0.1936962 , -0.15100619,  0.1690574 ,  0.26890573, -0.07823545,\n",
       "       -0.06928771,  0.25662142, -0.13671677, -0.44682509, -0.01606172])"
      ]
     },
     "execution_count": 19,
     "metadata": {},
     "output_type": "execute_result"
    }
   ],
   "source": [
    "X_train[0]"
   ]
  },
  {
   "cell_type": "code",
   "execution_count": 20,
   "metadata": {},
   "outputs": [
    {
     "data": {
      "text/plain": [
       "'\\n# INFERENCE\\nwith tf.variable_scope(\"posterior\"):\\n    with tf.variable_scope(\"qW_0\"):\\n      loc = tf.get_variable(\"loc\", [D, 300])\\n      scale = tf.nn.softplus(tf.get_variable(\"scale\", [D, 300]))\\n      qW_0 = Normal(loc=loc, scale=scale)\\n    with tf.variable_scope(\"qW_1\"):\\n      loc = tf.get_variable(\"loc\", [300, 300])\\n      scale = tf.nn.softplus(tf.get_variable(\"scale\", [300, 300]))\\n      qW_1 = Normal(loc=loc, scale=scale)\\n    with tf.variable_scope(\"qW_2\"):\\n      loc = tf.get_variable(\"loc\", [300, 300])\\n      scale = tf.nn.softplus(tf.get_variable(\"scale\", [300, 300]))\\n      qW_2 = Normal(loc=loc, scale=scale)\\n    with tf.variable_scope(\"qW_3\"):\\n      loc = tf.get_variable(\"loc\", [300, 2])\\n      scale = tf.nn.softplus(tf.get_variable(\"scale\", [300, 2]))\\n      qW_3 = Normal(loc=loc, scale=scale)\\n    with tf.variable_scope(\"qb_0\"):\\n      loc = tf.get_variable(\"loc\", [300])\\n      scale = tf.nn.softplus(tf.get_variable(\"scale\", [300]))\\n      qb_0 = Normal(loc=loc, scale=scale)\\n    with tf.variable_scope(\"qb_1\"):\\n      loc = tf.get_variable(\"loc\", [300])\\n      scale = tf.nn.softplus(tf.get_variable(\"scale\", [300]))\\n      qb_1 = Normal(loc=loc, scale=scale)\\n    with tf.variable_scope(\"qb_2\"):\\n      loc = tf.get_variable(\"loc\", [300])\\n      scale = tf.nn.softplus(tf.get_variable(\"scale\", [300]))\\n      qb_2 = Normal(loc=loc, scale=scale)\\n    with tf.variable_scope(\"qb_3\"):\\n      loc = tf.get_variable(\"loc\", [2])\\n      scale = tf.nn.softplus(tf.get_variable(\"scale\", [2]))\\n      qb_3 = Normal(loc=loc, scale=scale)\\n'"
      ]
     },
     "execution_count": 20,
     "metadata": {},
     "output_type": "execute_result"
    }
   ],
   "source": [
    "'''\n",
    "# INFERENCE\n",
    "with tf.variable_scope(\"posterior\"):\n",
    "    with tf.variable_scope(\"qW_0\"):\n",
    "      loc = tf.get_variable(\"loc\", [D, 300])\n",
    "      scale = tf.nn.softplus(tf.get_variable(\"scale\", [D, 300]))\n",
    "      qW_0 = Normal(loc=loc, scale=scale)\n",
    "    with tf.variable_scope(\"qW_1\"):\n",
    "      loc = tf.get_variable(\"loc\", [300, 300])\n",
    "      scale = tf.nn.softplus(tf.get_variable(\"scale\", [300, 300]))\n",
    "      qW_1 = Normal(loc=loc, scale=scale)\n",
    "    with tf.variable_scope(\"qW_2\"):\n",
    "      loc = tf.get_variable(\"loc\", [300, 300])\n",
    "      scale = tf.nn.softplus(tf.get_variable(\"scale\", [300, 300]))\n",
    "      qW_2 = Normal(loc=loc, scale=scale)\n",
    "    with tf.variable_scope(\"qW_3\"):\n",
    "      loc = tf.get_variable(\"loc\", [300, 2])\n",
    "      scale = tf.nn.softplus(tf.get_variable(\"scale\", [300, 2]))\n",
    "      qW_3 = Normal(loc=loc, scale=scale)\n",
    "    with tf.variable_scope(\"qb_0\"):\n",
    "      loc = tf.get_variable(\"loc\", [300])\n",
    "      scale = tf.nn.softplus(tf.get_variable(\"scale\", [300]))\n",
    "      qb_0 = Normal(loc=loc, scale=scale)\n",
    "    with tf.variable_scope(\"qb_1\"):\n",
    "      loc = tf.get_variable(\"loc\", [300])\n",
    "      scale = tf.nn.softplus(tf.get_variable(\"scale\", [300]))\n",
    "      qb_1 = Normal(loc=loc, scale=scale)\n",
    "    with tf.variable_scope(\"qb_2\"):\n",
    "      loc = tf.get_variable(\"loc\", [300])\n",
    "      scale = tf.nn.softplus(tf.get_variable(\"scale\", [300]))\n",
    "      qb_2 = Normal(loc=loc, scale=scale)\n",
    "    with tf.variable_scope(\"qb_3\"):\n",
    "      loc = tf.get_variable(\"loc\", [2])\n",
    "      scale = tf.nn.softplus(tf.get_variable(\"scale\", [2]))\n",
    "      qb_3 = Normal(loc=loc, scale=scale)\n",
    "'''"
   ]
  },
  {
   "cell_type": "code",
   "execution_count": 21,
   "metadata": {},
   "outputs": [],
   "source": [
    "with tf.name_scope(\"model\"):\n",
    "    W_0 = Normal(loc=tf.zeros([D, 256]), scale=tf.ones([D, 256]),\n",
    "                 name=\"W_0\")\n",
    "    W_1 = Normal(loc=tf.zeros([256, 256]), scale=tf.ones([256, 256]), name=\"W_1\")\n",
    "    W_2 = Normal(loc=tf.zeros([256, 80]), scale=tf.ones([256, 80]), name=\"W_2\")\n",
    "    W_3 = Normal(loc=tf.zeros([80, 2]), scale=tf.ones([80, 2]), name=\"W_3\")\n",
    "    b_0 = Normal(loc=tf.zeros(256), scale=tf.ones(256), name=\"b_0\")\n",
    "    b_1 = Normal(loc=tf.zeros(256), scale=tf.ones(256), name=\"b_1\")\n",
    "    b_2 = Normal(loc=tf.zeros(80), scale=tf.ones(80), name=\"b_2\")\n",
    "    b_3 = Normal(loc=tf.ones(2), scale=tf.ones(2), name=\"b_3\")  \n",
    "    X = tf.placeholder(tf.float32, [None, D], name=\"X\")\n",
    "    y = Categorical(neural_network(X), name=\"out\")\n",
    "    \n",
    "# INFERENCE\n",
    "with tf.variable_scope(\"posterior\"):\n",
    "    with tf.variable_scope(\"qW_0\"):\n",
    "      loc = tf.get_variable(\"loc\", [D, 256])\n",
    "      scale = tf.nn.softplus(tf.get_variable(\"scale\", [D, 256]))\n",
    "      qW_0 = Normal(loc=loc, scale=scale)\n",
    "    with tf.variable_scope(\"qW_1\"):\n",
    "      loc = tf.get_variable(\"loc\", [256, 256])\n",
    "      scale = tf.nn.softplus(tf.get_variable(\"scale\", [256, 256]))\n",
    "      qW_1 = Normal(loc=loc, scale=scale)\n",
    "    with tf.variable_scope(\"qW_2\"):\n",
    "      loc = tf.get_variable(\"loc\", [256, 80])\n",
    "      scale = tf.nn.softplus(tf.get_variable(\"scale\", [256, 80]))\n",
    "      qW_2 = Normal(loc=loc, scale=scale)\n",
    "    with tf.variable_scope(\"qW_3\"):\n",
    "      loc = tf.get_variable(\"loc\", [80, 2])\n",
    "      scale = tf.nn.softplus(tf.get_variable(\"scale\", [80, 2]))\n",
    "      qW_3 = Normal(loc=loc, scale=scale)\n",
    "    with tf.variable_scope(\"qb_0\"):\n",
    "      loc = tf.get_variable(\"loc\", [256])\n",
    "      scale = tf.nn.softplus(tf.get_variable(\"scale\", [256]))\n",
    "      qb_0 = Normal(loc=loc, scale=scale)\n",
    "    with tf.variable_scope(\"qb_1\"):\n",
    "      loc = tf.get_variable(\"loc\", [256])\n",
    "      scale = tf.nn.softplus(tf.get_variable(\"scale\", [256]))\n",
    "      qb_1 = Normal(loc=loc, scale=scale)\n",
    "    with tf.variable_scope(\"qb_2\"):\n",
    "      loc = tf.get_variable(\"loc\", [80])\n",
    "      scale = tf.nn.softplus(tf.get_variable(\"scale\", [80]))\n",
    "      qb_2 = Normal(loc=loc, scale=scale)\n",
    "    with tf.variable_scope(\"qb_3\"):\n",
    "      loc = tf.get_variable(\"loc\", [2])\n",
    "      scale = tf.nn.softplus(tf.get_variable(\"scale\", [2]))\n",
    "      qb_3 = Normal(loc=loc, scale=scale)"
   ]
  },
  {
   "cell_type": "code",
   "execution_count": 22,
   "metadata": {
    "scrolled": true
   },
   "outputs": [
    {
     "data": {
      "text/plain": [
       "'\\nzero_initializer = tf.constant_initializer(value=0.0)\\nones_initializer = tf.constant_initializer(value=1.0)\\nwith tf.variable_scope(\"posterior\"):\\n    with tf.variable_scope(\"qW_0\"):\\n      loc = tf.get_variable(\"loc\", [D, 1000], initializer=zero_initializer)\\n      scale = tf.nn.softplus(tf.get_variable(\"scale\", [D, 1000], initializer=ones_initializer))\\n      qW_0 = Normal(loc=loc, scale=scale)\\n    with tf.variable_scope(\"qW_1\"):\\n      loc = tf.get_variable(\"loc\", [1000, 500], initializer=zero_initializer)\\n      scale = tf.nn.softplus(tf.get_variable(\"scale\", [1000, 500], initializer=ones_initializer))\\n      qW_1 = Normal(loc=loc, scale=scale)\\n    with tf.variable_scope(\"qW_2\"):\\n      loc = tf.get_variable(\"loc\", [500, 300], initializer=zero_initializer)\\n      scale = tf.nn.softplus(tf.get_variable(\"scale\", [500, 300], initializer=ones_initializer))\\n      qW_2 = Normal(loc=loc, scale=scale)\\n    with tf.variable_scope(\"qW_3\"):\\n      loc = tf.get_variable(\"loc\", [300, 1], initializer=zero_initializer)\\n      scale = tf.nn.softplus(tf.get_variable(\"scale\", [300, 1], initializer=ones_initializer))\\n      qW_3 = Normal(loc=loc, scale=scale)\\n    with tf.variable_scope(\"qb_0\"):\\n      loc = tf.get_variable(\"loc\", [1000], initializer=zero_initializer)\\n      scale = tf.nn.softplus(tf.get_variable(\"scale\", [1000], initializer=ones_initializer))\\n      qb_0 = Normal(loc=loc, scale=scale)\\n    with tf.variable_scope(\"qb_1\"):\\n      loc = tf.get_variable(\"loc\", [500], initializer=zero_initializer)\\n      scale = tf.nn.softplus(tf.get_variable(\"scale\", [500], initializer=ones_initializer))\\n      qb_1 = Normal(loc=loc, scale=scale)\\n    with tf.variable_scope(\"qb_2\"):\\n      loc = tf.get_variable(\"loc\", [300], initializer=zero_initializer)\\n      scale = tf.nn.softplus(tf.get_variable(\"scale\", [300], initializer=ones_initializer))\\n      qb_2 = Normal(loc=loc, scale=scale)\\n    with tf.variable_scope(\"qb_3\"):\\n      loc = tf.get_variable(\"loc\", [1], initializer=zero_initializer)\\n      scale = tf.nn.softplus(tf.get_variable(\"scale\", [1], initializer=ones_initializer))\\n      qb_3 = Normal(loc=loc, scale=scale)\\n'"
      ]
     },
     "execution_count": 22,
     "metadata": {},
     "output_type": "execute_result"
    }
   ],
   "source": [
    "'''\n",
    "zero_initializer = tf.constant_initializer(value=0.0)\n",
    "ones_initializer = tf.constant_initializer(value=1.0)\n",
    "with tf.variable_scope(\"posterior\"):\n",
    "    with tf.variable_scope(\"qW_0\"):\n",
    "      loc = tf.get_variable(\"loc\", [D, 1000], initializer=zero_initializer)\n",
    "      scale = tf.nn.softplus(tf.get_variable(\"scale\", [D, 1000], initializer=ones_initializer))\n",
    "      qW_0 = Normal(loc=loc, scale=scale)\n",
    "    with tf.variable_scope(\"qW_1\"):\n",
    "      loc = tf.get_variable(\"loc\", [1000, 500], initializer=zero_initializer)\n",
    "      scale = tf.nn.softplus(tf.get_variable(\"scale\", [1000, 500], initializer=ones_initializer))\n",
    "      qW_1 = Normal(loc=loc, scale=scale)\n",
    "    with tf.variable_scope(\"qW_2\"):\n",
    "      loc = tf.get_variable(\"loc\", [500, 300], initializer=zero_initializer)\n",
    "      scale = tf.nn.softplus(tf.get_variable(\"scale\", [500, 300], initializer=ones_initializer))\n",
    "      qW_2 = Normal(loc=loc, scale=scale)\n",
    "    with tf.variable_scope(\"qW_3\"):\n",
    "      loc = tf.get_variable(\"loc\", [300, 1], initializer=zero_initializer)\n",
    "      scale = tf.nn.softplus(tf.get_variable(\"scale\", [300, 1], initializer=ones_initializer))\n",
    "      qW_3 = Normal(loc=loc, scale=scale)\n",
    "    with tf.variable_scope(\"qb_0\"):\n",
    "      loc = tf.get_variable(\"loc\", [1000], initializer=zero_initializer)\n",
    "      scale = tf.nn.softplus(tf.get_variable(\"scale\", [1000], initializer=ones_initializer))\n",
    "      qb_0 = Normal(loc=loc, scale=scale)\n",
    "    with tf.variable_scope(\"qb_1\"):\n",
    "      loc = tf.get_variable(\"loc\", [500], initializer=zero_initializer)\n",
    "      scale = tf.nn.softplus(tf.get_variable(\"scale\", [500], initializer=ones_initializer))\n",
    "      qb_1 = Normal(loc=loc, scale=scale)\n",
    "    with tf.variable_scope(\"qb_2\"):\n",
    "      loc = tf.get_variable(\"loc\", [300], initializer=zero_initializer)\n",
    "      scale = tf.nn.softplus(tf.get_variable(\"scale\", [300], initializer=ones_initializer))\n",
    "      qb_2 = Normal(loc=loc, scale=scale)\n",
    "    with tf.variable_scope(\"qb_3\"):\n",
    "      loc = tf.get_variable(\"loc\", [1], initializer=zero_initializer)\n",
    "      scale = tf.nn.softplus(tf.get_variable(\"scale\", [1], initializer=ones_initializer))\n",
    "      qb_3 = Normal(loc=loc, scale=scale)\n",
    "'''"
   ]
  },
  {
   "cell_type": "code",
   "execution_count": 32,
   "metadata": {},
   "outputs": [
    {
     "name": "stdout",
     "output_type": "stream",
     "text": [
      "100/100 [100%] ██████████████████████████████ Elapsed: 22s | Loss: 28360.969\n"
     ]
    }
   ],
   "source": [
    "#lets do inference\n",
    "inference = ed.KLqp({W_0: qW_0, b_0: qb_0,\n",
    "                   W_1: qW_1, b_1: qb_1,\n",
    "                   W_2: qW_2, b_2: qb_2,\n",
    "                   W_3: qW_3, b_3: qb_3}, data={X: X_train, y: y_train})\n",
    "inference.run(logdir='log', n_iter=100)"
   ]
  },
  {
   "cell_type": "code",
   "execution_count": 33,
   "metadata": {},
   "outputs": [
    {
     "data": {
      "text/plain": [
       "0.5089114"
      ]
     },
     "execution_count": 33,
     "metadata": {},
     "output_type": "execute_result"
    }
   ],
   "source": [
    "ed.evaluate('categorical_accuracy', data={y: y_train, X: X_train})"
   ]
  },
  {
   "cell_type": "code",
   "execution_count": 34,
   "metadata": {},
   "outputs": [
    {
     "data": {
      "text/plain": [
       "0.5916205"
      ]
     },
     "execution_count": 34,
     "metadata": {},
     "output_type": "execute_result"
    }
   ],
   "source": [
    "ed.evaluate('categorical_accuracy', data={y: y_test, X: X_test})"
   ]
  },
  {
   "cell_type": "code",
   "execution_count": null,
   "metadata": {},
   "outputs": [],
   "source": []
  }
 ],
 "metadata": {
  "kernelspec": {
   "display_name": "Python [conda env:edward_env] *",
   "language": "python",
   "name": "conda-env-edward_env-py"
  },
  "language_info": {
   "codemirror_mode": {
    "name": "ipython",
    "version": 3
   },
   "file_extension": ".py",
   "mimetype": "text/x-python",
   "name": "python",
   "nbconvert_exporter": "python",
   "pygments_lexer": "ipython3",
   "version": "3.6.7"
  }
 },
 "nbformat": 4,
 "nbformat_minor": 2
}
